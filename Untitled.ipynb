{
 "cells": [
  {
   "cell_type": "code",
   "execution_count": 12,
   "id": "ffffcda5",
   "metadata": {},
   "outputs": [
    {
     "data": {
      "text/html": [
       "<style>.container { width:90% !important; }</style>"
      ],
      "text/plain": [
       "<IPython.core.display.HTML object>"
      ]
     },
     "metadata": {},
     "output_type": "display_data"
    }
   ],
   "source": [
    "from IPython.core.display import display, HTML\n",
    "display(HTML(\"<style>.container { width:90% !important; }</style>\"))"
   ]
  },
  {
   "cell_type": "code",
   "execution_count": 17,
   "id": "c25e1674",
   "metadata": {},
   "outputs": [],
   "source": [
    "import time as time\n",
    "import pyodbc\n",
    "import pandas as pd\n",
    "import numpy as np\n",
    "import matplotlib.pyplot as plt\n",
    "import os\n",
    "import arehelper.dataprocessing\n",
    "import arehelper.datavisualization\n",
    "import arehelper.predictive_model\n",
    "# Tensorflow\n",
    "import tensorflow as tf\n",
    "from tensorflow import keras\n",
    "from tensorflow.keras.layers import *\n",
    "from keras.losses import mean_squared_error\n",
    "from keras.metrics import RootMeanSquaredError\n",
    "#Sklearn\n",
    "from sklearn.metrics import mean_squared_error"
   ]
  },
  {
   "cell_type": "code",
   "execution_count": 47,
   "id": "6ab22909",
   "metadata": {},
   "outputs": [],
   "source": [
    "# SQL Connection\n",
    "conn = pyodbc.connect('Driver={SQL Server};'\n",
    "                      'Server=sqlserver7w7bbd5rlwweu.database.windows.net;'\n",
    "                      'Database=AreIoTSQLSensorData;'\n",
    "                      'Trusted_Connection=no;'\n",
    "                     'Uid=Teemu_ARE;'\n",
    "                     'Pwd=Toukokuu2022!;')\n",
    "# SQL Hakuja\n",
    "pd.set_option('display.max_columns', None)\n",
    "sqlmuseo = \"\"\"SELECT * FROM museotesti WHERE Apartment = 1 AND date > '2022-01-01' ORDER BY date DESC\"\"\"\n",
    "sqlsää = \"\"\"SELECT time, temperature, humidity FROM weatherrecords WHERE Time > '2022-01-01'\n",
    "            AND PLACE = 'Jyväskylä' ORDER BY time DESC\"\"\"\n",
    "sqlennustus = \"\"\"SELECT * FROM weatherforecasts WHERE place = 'Jyväskylä, Keskusta'\"\"\"\n",
    "\n",
    "dfmuseo = pd.read_sql(sqlmuseo,conn)\n",
    "dfsää = pd.read_sql(sqlsää,conn)\n",
    "dfennustus = pd.read_sql(sqlennustus,conn)"
   ]
  },
  {
   "cell_type": "code",
   "execution_count": 50,
   "id": "622df208",
   "metadata": {},
   "outputs": [
    {
     "data": {
      "text/html": [
       "<div>\n",
       "<style scoped>\n",
       "    .dataframe tbody tr th:only-of-type {\n",
       "        vertical-align: middle;\n",
       "    }\n",
       "\n",
       "    .dataframe tbody tr th {\n",
       "        vertical-align: top;\n",
       "    }\n",
       "\n",
       "    .dataframe thead th {\n",
       "        text-align: right;\n",
       "    }\n",
       "</style>\n",
       "<table border=\"1\" class=\"dataframe\">\n",
       "  <thead>\n",
       "    <tr style=\"text-align: right;\">\n",
       "      <th></th>\n",
       "      <th>ID</th>\n",
       "      <th>Sensorid</th>\n",
       "      <th>date</th>\n",
       "      <th>Lampotila</th>\n",
       "      <th>Kosteus</th>\n",
       "      <th>place</th>\n",
       "      <th>Apartment</th>\n",
       "      <th>Floor</th>\n",
       "    </tr>\n",
       "  </thead>\n",
       "  <tbody>\n",
       "    <tr>\n",
       "      <th>0</th>\n",
       "      <td>13779610</td>\n",
       "      <td>A81758FFFE0609C8</td>\n",
       "      <td>2022-05-24 11:44:00</td>\n",
       "      <td>20.4</td>\n",
       "      <td>34.0</td>\n",
       "      <td>Välitaso</td>\n",
       "      <td>1</td>\n",
       "      <td>1</td>\n",
       "    </tr>\n",
       "    <tr>\n",
       "      <th>1</th>\n",
       "      <td>13779562</td>\n",
       "      <td>A81758FFFE0609C9</td>\n",
       "      <td>2022-05-24 11:43:00</td>\n",
       "      <td>21.7</td>\n",
       "      <td>32.0</td>\n",
       "      <td>Museokauppa</td>\n",
       "      <td>1</td>\n",
       "      <td>1</td>\n",
       "    </tr>\n",
       "    <tr>\n",
       "      <th>2</th>\n",
       "      <td>13779556</td>\n",
       "      <td>A81758FFFE0609C2</td>\n",
       "      <td>2022-05-24 11:42:00</td>\n",
       "      <td>20.3</td>\n",
       "      <td>33.0</td>\n",
       "      <td>Perusnayttely vitriinin ulkopuolella</td>\n",
       "      <td>1</td>\n",
       "      <td>3</td>\n",
       "    </tr>\n",
       "    <tr>\n",
       "      <th>3</th>\n",
       "      <td>13779517</td>\n",
       "      <td>A81758FFFE0609C5</td>\n",
       "      <td>2022-05-24 11:41:00</td>\n",
       "      <td>19.3</td>\n",
       "      <td>38.0</td>\n",
       "      <td>Arkisto 1</td>\n",
       "      <td>1</td>\n",
       "      <td>3</td>\n",
       "    </tr>\n",
       "    <tr>\n",
       "      <th>4</th>\n",
       "      <td>13779499</td>\n",
       "      <td>A81758FFFE0609C3</td>\n",
       "      <td>2022-05-24 11:40:00</td>\n",
       "      <td>22.2</td>\n",
       "      <td>29.0</td>\n",
       "      <td>Perusnayttely vitriinin sisapuolella</td>\n",
       "      <td>1</td>\n",
       "      <td>3</td>\n",
       "    </tr>\n",
       "    <tr>\n",
       "      <th>...</th>\n",
       "      <td>...</td>\n",
       "      <td>...</td>\n",
       "      <td>...</td>\n",
       "      <td>...</td>\n",
       "      <td>...</td>\n",
       "      <td>...</td>\n",
       "      <td>...</td>\n",
       "      <td>...</td>\n",
       "    </tr>\n",
       "    <tr>\n",
       "      <th>162471</th>\n",
       "      <td>8431486</td>\n",
       "      <td>A81758FFFE0609C7</td>\n",
       "      <td>2022-01-01 00:05:00</td>\n",
       "      <td>19.8</td>\n",
       "      <td>24.0</td>\n",
       "      <td>Aulagalleria</td>\n",
       "      <td>1</td>\n",
       "      <td>1</td>\n",
       "    </tr>\n",
       "    <tr>\n",
       "      <th>162472</th>\n",
       "      <td>8431488</td>\n",
       "      <td>A81758FFFE0609C1</td>\n",
       "      <td>2022-01-01 00:05:00</td>\n",
       "      <td>19.1</td>\n",
       "      <td>32.0</td>\n",
       "      <td>Perusnayttely kansallispukukeskus vitriinin ulkop</td>\n",
       "      <td>1</td>\n",
       "      <td>3</td>\n",
       "    </tr>\n",
       "    <tr>\n",
       "      <th>162473</th>\n",
       "      <td>8431490</td>\n",
       "      <td>A81758FFFE0609C0</td>\n",
       "      <td>2022-01-01 00:05:00</td>\n",
       "      <td>20.1</td>\n",
       "      <td>27.0</td>\n",
       "      <td>Perusnayttely kansallispukukeskus vitriinin si...</td>\n",
       "      <td>1</td>\n",
       "      <td>3</td>\n",
       "    </tr>\n",
       "    <tr>\n",
       "      <th>162474</th>\n",
       "      <td>8431479</td>\n",
       "      <td>A81758FFFE0609CB</td>\n",
       "      <td>2022-01-01 00:05:00</td>\n",
       "      <td>20.3</td>\n",
       "      <td>22.0</td>\n",
       "      <td>Vaihtuvat näyttelyt</td>\n",
       "      <td>1</td>\n",
       "      <td>2</td>\n",
       "    </tr>\n",
       "    <tr>\n",
       "      <th>162475</th>\n",
       "      <td>8431456</td>\n",
       "      <td>A81758FFFE0609C6</td>\n",
       "      <td>2022-01-01 00:04:00</td>\n",
       "      <td>18.2</td>\n",
       "      <td>33.0</td>\n",
       "      <td>Arkisto 2</td>\n",
       "      <td>1</td>\n",
       "      <td>3</td>\n",
       "    </tr>\n",
       "  </tbody>\n",
       "</table>\n",
       "<p>162476 rows × 8 columns</p>\n",
       "</div>"
      ],
      "text/plain": [
       "              ID          Sensorid                date  Lampotila  Kosteus  \\\n",
       "0       13779610  A81758FFFE0609C8 2022-05-24 11:44:00       20.4     34.0   \n",
       "1       13779562  A81758FFFE0609C9 2022-05-24 11:43:00       21.7     32.0   \n",
       "2       13779556  A81758FFFE0609C2 2022-05-24 11:42:00       20.3     33.0   \n",
       "3       13779517  A81758FFFE0609C5 2022-05-24 11:41:00       19.3     38.0   \n",
       "4       13779499  A81758FFFE0609C3 2022-05-24 11:40:00       22.2     29.0   \n",
       "...          ...               ...                 ...        ...      ...   \n",
       "162471   8431486  A81758FFFE0609C7 2022-01-01 00:05:00       19.8     24.0   \n",
       "162472   8431488  A81758FFFE0609C1 2022-01-01 00:05:00       19.1     32.0   \n",
       "162473   8431490  A81758FFFE0609C0 2022-01-01 00:05:00       20.1     27.0   \n",
       "162474   8431479  A81758FFFE0609CB 2022-01-01 00:05:00       20.3     22.0   \n",
       "162475   8431456  A81758FFFE0609C6 2022-01-01 00:04:00       18.2     33.0   \n",
       "\n",
       "                                                    place  Apartment Floor  \n",
       "0                                                Välitaso          1     1  \n",
       "1                                             Museokauppa          1     1  \n",
       "2                    Perusnayttely vitriinin ulkopuolella          1     3  \n",
       "3                                               Arkisto 1          1     3  \n",
       "4                    Perusnayttely vitriinin sisapuolella          1     3  \n",
       "...                                                   ...        ...   ...  \n",
       "162471                                       Aulagalleria          1     1  \n",
       "162472  Perusnayttely kansallispukukeskus vitriinin ulkop          1     3  \n",
       "162473  Perusnayttely kansallispukukeskus vitriinin si...          1     3  \n",
       "162474                                Vaihtuvat näyttelyt          1     2  \n",
       "162475                                          Arkisto 2          1     3  \n",
       "\n",
       "[162476 rows x 8 columns]"
      ]
     },
     "execution_count": 50,
     "metadata": {},
     "output_type": "execute_result"
    }
   ],
   "source": [
    "dfmuseo"
   ]
  },
  {
   "cell_type": "code",
   "execution_count": 28,
   "id": "e610056c",
   "metadata": {},
   "outputs": [
    {
     "name": "stdout",
     "output_type": "stream",
     "text": [
      "connecting...\n",
      "Connected!\n",
      "Found 13 sensors:\n",
      "['A81758FFFE0609C4' 'A81758FFFE0609C0' 'A81758FFFE0609C7'\n",
      " 'A81758FFFE0609CB' 'A81758FFFE0609C6' 'A81758FFFE0609C1'\n",
      " 'A81758FFFE0609C8' 'A81758FFFE0609C9' 'A81758FFFE0609C2'\n",
      " 'A81758FFFE0609CC' 'A81758FFFE0609C5' 'A81758FFFE0609C3'\n",
      " 'A81758FFFE0609CA']\n",
      "\n",
      "Dataframe names:\n",
      "df[\"A81758FFFE0609C4\"]\n",
      "df[\"A81758FFFE0609C0\"]\n",
      "df[\"A81758FFFE0609C7\"]\n",
      "df[\"A81758FFFE0609CB\"]\n",
      "df[\"A81758FFFE0609C6\"]\n",
      "df[\"A81758FFFE0609C1\"]\n",
      "df[\"A81758FFFE0609C8\"]\n",
      "df[\"A81758FFFE0609C9\"]\n",
      "df[\"A81758FFFE0609C2\"]\n",
      "df[\"A81758FFFE0609CC\"]\n",
      "df[\"A81758FFFE0609C5\"]\n",
      "df[\"A81758FFFE0609C3\"]\n",
      "df[\"A81758FFFE0609CA\"]\n"
     ]
    }
   ],
   "source": [
    "# Kaikki Käsityömuseon sensorit\n",
    "df = arehelper.predictive_model.create_sensordf('1min',prints=True)"
   ]
  },
  {
   "cell_type": "markdown",
   "id": "e4f45ddf",
   "metadata": {},
   "source": [
    "## Ennustukset jokaiselle sensorille"
   ]
  },
  {
   "cell_type": "code",
   "execution_count": 39,
   "id": "e4b25ad3",
   "metadata": {},
   "outputs": [
    {
     "name": "stdout",
     "output_type": "stream",
     "text": [
      "Viimeisin datapiste:\n",
      "2022-05-24 11:26:00\n",
      "connecting...\n",
      "Connected!\n",
      "Ennustukset ajoille: 0   2022-05-24 13:40:00.623\n",
      "Name: timestamp, dtype: datetime64[ns] \n",
      " 0   2022-05-24 14:40:00.623\n",
      "Name: timestamp, dtype: datetime64[ns] \n",
      " 0   2022-05-24 17:40:00.623\n",
      "Name: timestamp, dtype: datetime64[ns]\n",
      "\n",
      "Dec Predictions:[[33.73624474 33.73624474 33.73624474]]\n",
      "Rand predictions: [[33.73861693 33.72754669 33.70145255]]\n"
     ]
    }
   ],
   "source": [
    "# Ennustus\n",
    "sensor = [df['A81758FFFE0609C9']]\n",
    "dec_l, rand_l = arehelper.predictive_model.predict_museo_hum(sensor, figure=False)"
   ]
  },
  {
   "cell_type": "code",
   "execution_count": 45,
   "id": "6b7c1f3c",
   "metadata": {},
   "outputs": [
    {
     "data": {
      "text/html": [
       "<div>\n",
       "<style scoped>\n",
       "    .dataframe tbody tr th:only-of-type {\n",
       "        vertical-align: middle;\n",
       "    }\n",
       "\n",
       "    .dataframe tbody tr th {\n",
       "        vertical-align: top;\n",
       "    }\n",
       "\n",
       "    .dataframe thead th {\n",
       "        text-align: right;\n",
       "    }\n",
       "</style>\n",
       "<table border=\"1\" class=\"dataframe\">\n",
       "  <thead>\n",
       "    <tr style=\"text-align: right;\">\n",
       "      <th></th>\n",
       "      <th>Humidity in 2h</th>\n",
       "      <th>Humidity in 3h</th>\n",
       "      <th>Humidity in 6h</th>\n",
       "    </tr>\n",
       "  </thead>\n",
       "  <tbody>\n",
       "    <tr>\n",
       "      <th>0</th>\n",
       "      <td>33.736245</td>\n",
       "      <td>33.736245</td>\n",
       "      <td>33.736245</td>\n",
       "    </tr>\n",
       "  </tbody>\n",
       "</table>\n",
       "</div>"
      ],
      "text/plain": [
       "   Humidity in 2h  Humidity in 3h  Humidity in 6h\n",
       "0       33.736245       33.736245       33.736245"
      ]
     },
     "execution_count": 45,
     "metadata": {},
     "output_type": "execute_result"
    }
   ],
   "source": [
    "dec_l[0]"
   ]
  },
  {
   "cell_type": "code",
   "execution_count": 46,
   "id": "d79522ec",
   "metadata": {},
   "outputs": [
    {
     "data": {
      "text/html": [
       "<div>\n",
       "<style scoped>\n",
       "    .dataframe tbody tr th:only-of-type {\n",
       "        vertical-align: middle;\n",
       "    }\n",
       "\n",
       "    .dataframe tbody tr th {\n",
       "        vertical-align: top;\n",
       "    }\n",
       "\n",
       "    .dataframe thead th {\n",
       "        text-align: right;\n",
       "    }\n",
       "</style>\n",
       "<table border=\"1\" class=\"dataframe\">\n",
       "  <thead>\n",
       "    <tr style=\"text-align: right;\">\n",
       "      <th></th>\n",
       "      <th>Humidity in 2h</th>\n",
       "      <th>Humidity in 3h</th>\n",
       "      <th>Humidity in 6h</th>\n",
       "    </tr>\n",
       "  </thead>\n",
       "  <tbody>\n",
       "    <tr>\n",
       "      <th>0</th>\n",
       "      <td>33.738617</td>\n",
       "      <td>33.727547</td>\n",
       "      <td>33.701453</td>\n",
       "    </tr>\n",
       "  </tbody>\n",
       "</table>\n",
       "</div>"
      ],
      "text/plain": [
       "   Humidity in 2h  Humidity in 3h  Humidity in 6h\n",
       "0       33.738617       33.727547       33.701453"
      ]
     },
     "execution_count": 46,
     "metadata": {},
     "output_type": "execute_result"
    }
   ],
   "source": [
    "rand_l[0]"
   ]
  },
  {
   "cell_type": "markdown",
   "id": "2ea0c00c",
   "metadata": {},
   "source": [
    "## Ennustukset yksittäisille sensoreille"
   ]
  },
  {
   "cell_type": "code",
   "execution_count": 25,
   "id": "c21d2b52",
   "metadata": {},
   "outputs": [
    {
     "name": "stdout",
     "output_type": "stream",
     "text": [
      "connecting...\n",
      "Connected!\n",
      "Found 13 sensors:\n",
      "['A81758FFFE0609C6' 'A81758FFFE0609C1' 'A81758FFFE0609C8'\n",
      " 'A81758FFFE0609C9' 'A81758FFFE0609C2' 'A81758FFFE0609CC'\n",
      " 'A81758FFFE0609C5' 'A81758FFFE0609C3' 'A81758FFFE0609C4'\n",
      " 'A81758FFFE0609C0' 'A81758FFFE0609C7' 'A81758FFFE0609CB'\n",
      " 'A81758FFFE0609CA']\n",
      "\n",
      "Dataframe names:\n",
      "df[\"A81758FFFE0609C6\"]\n",
      "df[\"A81758FFFE0609C1\"]\n",
      "df[\"A81758FFFE0609C8\"]\n",
      "df[\"A81758FFFE0609C9\"]\n",
      "df[\"A81758FFFE0609C2\"]\n",
      "df[\"A81758FFFE0609CC\"]\n",
      "df[\"A81758FFFE0609C5\"]\n",
      "df[\"A81758FFFE0609C3\"]\n",
      "df[\"A81758FFFE0609C4\"]\n",
      "df[\"A81758FFFE0609C0\"]\n",
      "df[\"A81758FFFE0609C7\"]\n",
      "df[\"A81758FFFE0609CB\"]\n",
      "df[\"A81758FFFE0609CA\"]\n"
     ]
    }
   ],
   "source": [
    "df = arehelper.predictive_model.create_sensordf('1min', prints=True)"
   ]
  },
  {
   "cell_type": "code",
   "execution_count": null,
   "id": "0e442aea",
   "metadata": {},
   "outputs": [],
   "source": [
    "start = time.time()\n",
    "df_l = []\n",
    "\n",
    "for i in arehelper.predictive_model.create_sensordf('1min'):\n",
    "    df_l.append(sensor[i])\n",
    "dec_l, rand_l = arehelper.predictive_model.predict_museo_hum(df_l, figure=True)\n",
    "\n",
    "print(f'Running time: {round((time.time())-start,0)} seconds')"
   ]
  },
  {
   "cell_type": "code",
   "execution_count": 51,
   "id": "a709a1b0",
   "metadata": {},
   "outputs": [
    {
     "data": {
      "text/html": [
       "<div>\n",
       "<style scoped>\n",
       "    .dataframe tbody tr th:only-of-type {\n",
       "        vertical-align: middle;\n",
       "    }\n",
       "\n",
       "    .dataframe tbody tr th {\n",
       "        vertical-align: top;\n",
       "    }\n",
       "\n",
       "    .dataframe thead th {\n",
       "        text-align: right;\n",
       "    }\n",
       "</style>\n",
       "<table border=\"1\" class=\"dataframe\">\n",
       "  <thead>\n",
       "    <tr style=\"text-align: right;\">\n",
       "      <th></th>\n",
       "      <th>Humidity in 2h</th>\n",
       "      <th>Humidity in 3h</th>\n",
       "      <th>Humidity in 6h</th>\n",
       "    </tr>\n",
       "  </thead>\n",
       "  <tbody>\n",
       "    <tr>\n",
       "      <th>0</th>\n",
       "      <td>33.736245</td>\n",
       "      <td>33.736245</td>\n",
       "      <td>33.736245</td>\n",
       "    </tr>\n",
       "  </tbody>\n",
       "</table>\n",
       "</div>"
      ],
      "text/plain": [
       "   Humidity in 2h  Humidity in 3h  Humidity in 6h\n",
       "0       33.736245       33.736245       33.736245"
      ]
     },
     "execution_count": 51,
     "metadata": {},
     "output_type": "execute_result"
    }
   ],
   "source": [
    "dec_l[0]"
   ]
  },
  {
   "cell_type": "code",
   "execution_count": 52,
   "id": "d30d9c3b",
   "metadata": {},
   "outputs": [
    {
     "data": {
      "text/html": [
       "<div>\n",
       "<style scoped>\n",
       "    .dataframe tbody tr th:only-of-type {\n",
       "        vertical-align: middle;\n",
       "    }\n",
       "\n",
       "    .dataframe tbody tr th {\n",
       "        vertical-align: top;\n",
       "    }\n",
       "\n",
       "    .dataframe thead th {\n",
       "        text-align: right;\n",
       "    }\n",
       "</style>\n",
       "<table border=\"1\" class=\"dataframe\">\n",
       "  <thead>\n",
       "    <tr style=\"text-align: right;\">\n",
       "      <th></th>\n",
       "      <th>Humidity in 2h</th>\n",
       "      <th>Humidity in 3h</th>\n",
       "      <th>Humidity in 6h</th>\n",
       "    </tr>\n",
       "  </thead>\n",
       "  <tbody>\n",
       "    <tr>\n",
       "      <th>0</th>\n",
       "      <td>33.738617</td>\n",
       "      <td>33.727547</td>\n",
       "      <td>33.701453</td>\n",
       "    </tr>\n",
       "  </tbody>\n",
       "</table>\n",
       "</div>"
      ],
      "text/plain": [
       "   Humidity in 2h  Humidity in 3h  Humidity in 6h\n",
       "0       33.738617       33.727547       33.701453"
      ]
     },
     "execution_count": 52,
     "metadata": {},
     "output_type": "execute_result"
    }
   ],
   "source": [
    "rand_l[0]"
   ]
  },
  {
   "cell_type": "code",
   "execution_count": null,
   "id": "1fe51f5d",
   "metadata": {},
   "outputs": [],
   "source": []
  }
 ],
 "metadata": {
  "kernelspec": {
   "display_name": "Python 3 (ipykernel)",
   "language": "python",
   "name": "python3"
  },
  "language_info": {
   "codemirror_mode": {
    "name": "ipython",
    "version": 3
   },
   "file_extension": ".py",
   "mimetype": "text/x-python",
   "name": "python",
   "nbconvert_exporter": "python",
   "pygments_lexer": "ipython3",
   "version": "3.9.7"
  }
 },
 "nbformat": 4,
 "nbformat_minor": 5
}
